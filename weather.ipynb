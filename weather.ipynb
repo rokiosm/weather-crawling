{
 "cells": [
  {
   "cell_type": "markdown",
   "metadata": {},
   "source": [
    "from bs4 import BeautifulSoup as bs\n",
    "from pprint import pprint\n",
    "import requests\n",
    "\n",
    "html = requests.get('https://search.naver.com/search.naver?query=날씨')\n",
    "\n",
    "soup = bs(html.text,'html.parser')\n",
    "\n",
    "data1 = soup.find('div',{'class':'detail_box'})\n",
    "\n",
    "data2 = data1.findAll('dd')\n",
    "\n",
    "fine_dust = data2[0].find('span',{'class':'num'})\n",
    "print(fine_dust)"
   ]
  },
  {
   "cell_type": "code",
   "execution_count": 50,
   "metadata": {},
   "outputs": [
    {
     "name": "stdout",
     "output_type": "stream",
     "text": [
      "현재 응암동 날씨는 12도 입니다.\n"
     ]
    }
   ],
   "source": [
    "from urllib.request import urlopen, Request\n",
    "import urllib\n",
    "import bs4\n",
    "\n",
    "location = '응암동'\n",
    "enc_location = urllib.parse.quote(location + '+날씨')\n",
    "\n",
    "url = 'https://search.naver.com/search.naver?ie=utf8&query='+ enc_location\n",
    "\n",
    "req = Request(url)\n",
    "page = urlopen(req)\n",
    "html = page.read()\n",
    "soup = bs4.BeautifulSoup(html,'html5lib')\n",
    "print('현재 ' + location + ' 날씨는 ' + soup.find('p', class_='info_temperature').find('span', class_='todaytemp').text + '도 입니다.')"
   ]
  },
  {
   "cell_type": "code",
   "execution_count": 11,
   "metadata": {},
   "outputs": [
    {
     "ename": "ModuleNotFoundError",
     "evalue": "No module named 'teleport'",
     "output_type": "error",
     "traceback": [
      "\u001b[0;31m---------------------------------------------------------------------------\u001b[0m",
      "\u001b[0;31mModuleNotFoundError\u001b[0m                       Traceback (most recent call last)",
      "\u001b[0;32m<ipython-input-11-55033e287b82>\u001b[0m in \u001b[0;36m<module>\u001b[0;34m\u001b[0m\n\u001b[0;32m----> 1\u001b[0;31m \u001b[0;32mimport\u001b[0m \u001b[0mteleport\u001b[0m\u001b[0;34m\u001b[0m\u001b[0;34m\u001b[0m\u001b[0m\n\u001b[0m\u001b[1;32m      2\u001b[0m \u001b[0;32mimport\u001b[0m \u001b[0mrequests\u001b[0m\u001b[0;34m\u001b[0m\u001b[0;34m\u001b[0m\u001b[0m\n\u001b[1;32m      3\u001b[0m \u001b[0;32mfrom\u001b[0m \u001b[0mbs4\u001b[0m \u001b[0;32mimport\u001b[0m \u001b[0mBeautifulSoup\u001b[0m\u001b[0;34m\u001b[0m\u001b[0;34m\u001b[0m\u001b[0m\n",
      "\u001b[0;31mModuleNotFoundError\u001b[0m: No module named 'teleport'"
     ]
    }
   ],
   "source": [
    "import telepot\n",
    "from telepot.loop import MessageLoop\n",
    "import time\n",
    "import requests\n",
    "\n",
    "TOKEN_MAIN = '1118537264:AAHIv8FE5tdM-wH4PSYqeAT_mspvyaULcVU'\n",
    "symbol = \"\"\n",
    "\n",
    "startMsg = \"명령어\\n\" \\\n",
    "            \"1.\n",
    "\n"
   ]
  },
  {
   "cell_type": "code",
   "execution_count": 49,
   "metadata": {},
   "outputs": [
    {
     "name": "stdout",
     "output_type": "stream",
     "text": [
      " 토 오늘     강수확률 20%      강수확률 0%    최저,최고 온도 3°/12°  \n"
     ]
    }
   ],
   "source": [
    "from bs4 import BeautifulSoup as bs\n",
    "from pprint import pprint\n",
    "import requests\n",
    "\n",
    "html = requests.get('https://search.naver.com/search.naver?query=날씨')\n",
    "\n",
    "soup = bs(html.text,'html.parser')\n",
    "\n",
    "data1 = soup.find('div',{'class': 'table_info weekly _weeklyWeather'})\n",
    "\n",
    "data2 = data1.findAll('ul')\n",
    "\n",
    "inform_weather = data2[0].find('li',{'class':'date_info today'})\n",
    "\n",
    "print(inform_weather.text)\n",
    "#main_pack > div.sc.cs_weather._weather > div:nth-child(2) > div.weather_box > div.weather_area._mainArea > div.table_info.weekly._weeklyWeather > ul:nth-child(2)\n"
   ]
  },
  {
   "cell_type": "code",
   "execution_count": 19,
   "metadata": {},
   "outputs": [
    {
     "ename": "SelectorSyntaxError",
     "evalue": "Invalid syntax for pseudo class ':nth-child'\n  line 1:\n#main_pack > div.sc.cs_weather._weather > div:nth-child() > div.weather_box > div.weather_area._mainArea > div.today_area._mainTabContent > div.table_info.bytime._todayWeatherByTime > div.info_list.weather_condition._tabContent > ul > li.on.now\n                                             ^ (<string>)",
     "output_type": "error",
     "traceback": [
      "Traceback \u001b[0;36m(most recent call last)\u001b[0m:\n",
      "  File \u001b[1;32m\"/Users/nusys/opt/anaconda3/lib/python3.7/site-packages/IPython/core/interactiveshell.py\"\u001b[0m, line \u001b[1;32m3326\u001b[0m, in \u001b[1;35mrun_code\u001b[0m\n    exec(code_obj, self.user_global_ns, self.user_ns)\n",
      "  File \u001b[1;32m\"<ipython-input-19-dd11d664c1f8>\"\u001b[0m, line \u001b[1;32m8\u001b[0m, in \u001b[1;35m<module>\u001b[0m\n    print(soup.select('#main_pack > div.sc.cs_weather._weather > div:nth-child() > div.weather_box > div.weather_area._mainArea > div.today_area._mainTabContent > div.table_info.bytime._todayWeatherByTime > div.info_list.weather_condition._tabContent > ul > li.on.now'))\n",
      "  File \u001b[1;32m\"/Users/nusys/opt/anaconda3/lib/python3.7/site-packages/bs4/element.py\"\u001b[0m, line \u001b[1;32m1334\u001b[0m, in \u001b[1;35mselect\u001b[0m\n    return soupsieve.select(selector, self, namespaces, limit, **kwargs)\n",
      "  File \u001b[1;32m\"/Users/nusys/opt/anaconda3/lib/python3.7/site-packages/soupsieve/__init__.py\"\u001b[0m, line \u001b[1;32m114\u001b[0m, in \u001b[1;35mselect\u001b[0m\n    return compile(select, namespaces, flags, **kwargs).select(tag, limit)\n",
      "  File \u001b[1;32m\"/Users/nusys/opt/anaconda3/lib/python3.7/site-packages/soupsieve/__init__.py\"\u001b[0m, line \u001b[1;32m63\u001b[0m, in \u001b[1;35mcompile\u001b[0m\n    return cp._cached_css_compile(pattern, namespaces, custom, flags)\n",
      "  File \u001b[1;32m\"/Users/nusys/opt/anaconda3/lib/python3.7/site-packages/soupsieve/css_parser.py\"\u001b[0m, line \u001b[1;32m205\u001b[0m, in \u001b[1;35m_cached_css_compile\u001b[0m\n    CSSParser(pattern, custom=custom_selectors, flags=flags).process_selectors(),\n",
      "  File \u001b[1;32m\"/Users/nusys/opt/anaconda3/lib/python3.7/site-packages/soupsieve/css_parser.py\"\u001b[0m, line \u001b[1;32m1064\u001b[0m, in \u001b[1;35mprocess_selectors\u001b[0m\n    return self.parse_selectors(self.selector_iter(self.pattern), index, flags)\n",
      "  File \u001b[1;32m\"/Users/nusys/opt/anaconda3/lib/python3.7/site-packages/soupsieve/css_parser.py\"\u001b[0m, line \u001b[1;32m923\u001b[0m, in \u001b[1;35mparse_selectors\u001b[0m\n    has_selector, is_html = self.parse_pseudo_class(sel, m, has_selector, iselector, is_html)\n",
      "\u001b[0;36m  File \u001b[0;32m\"/Users/nusys/opt/anaconda3/lib/python3.7/site-packages/soupsieve/css_parser.py\"\u001b[0;36m, line \u001b[0;32m652\u001b[0;36m, in \u001b[0;35mparse_pseudo_class\u001b[0;36m\u001b[0m\n\u001b[0;31m    m.start(0)\u001b[0m\n",
      "\u001b[0;36m  File \u001b[0;32m\"<string>\"\u001b[0;36m, line \u001b[0;32munknown\u001b[0m\n\u001b[0;31mSelectorSyntaxError\u001b[0m\u001b[0;31m:\u001b[0m Invalid syntax for pseudo class ':nth-child'\n  line 1:\n#main_pack > div.sc.cs_weather._weather > div:nth-child() > div.weather_box > div.weather_area._mainArea > div.today_area._mainTabContent > div.table_info.bytime._todayWeatherByTime > div.info_list.weather_condition._tabContent > ul > li.on.now\n                                             ^\n"
     ]
    }
   ],
   "source": [
    "import requests\n",
    "from bs4 import BeautifulSoup\n",
    "\n",
    "req = requests.get('https://search.naver.com/search.naver?query=%EB%82%A0%EC%94%A8')\n",
    "source = req.text\n",
    "soup = BeautifulSoup(source, 'html.parser')\n",
    "\n",
    "print(soup.select('#main_pack > div.sc.cs_weather._weather > div:nth-child() > div.weather_box > div.weather_area._mainArea > div.today_area._mainTabContent > div.table_info.bytime._todayWeatherByTime > div.info_list.weather_condition._tabContent > ul > li.on.now'))\n"
   ]
  },
  {
   "cell_type": "code",
   "execution_count": 21,
   "metadata": {},
   "outputs": [
    {
     "name": "stdout",
     "output_type": "stream",
     "text": [
      "현재 위치: 서울특별시 은평구 응암2동\n",
      "현재 온도: 8℃\n"
     ]
    }
   ],
   "source": [
    "from bs4 import BeautifulSoup\n",
    "from pprint import pprint\n",
    "import requests\n",
    "\n",
    "html = requests.get('https://search.naver.com/search.naver?query=날씨')\n",
    "\n",
    "soup = BeautifulSoup(html.text, 'html.parser')\n",
    "\n",
    "data1 = soup.find('div', {'class': 'weather_box'})\n",
    "\n",
    "find_address = data1.find('span', {'class':'btn_select'}).text\n",
    "print('현재 위치: '+find_address)\n",
    "\n",
    "find_currenttemp = data1.find('span',{'class': 'todaytemp'}).text\n",
    "print('현재 온도: '+find_currenttemp+'℃')\n"
   ]
  },
  {
   "cell_type": "code",
   "execution_count": 29,
   "metadata": {},
   "outputs": [
    {
     "name": "stdout",
     "output_type": "stream",
     "text": [
      "  오늘 온도  8°도   날씨 흐림 시간   00시    \n"
     ]
    }
   ],
   "source": [
    "from bs4 import BeautifulSoup as bs\n",
    "from pprint import pprint\n",
    "import requests\n",
    "\n",
    "html = requests.get('https://search.naver.com/search.naver?query=날씨')\n",
    "\n",
    "soup = bs(html.text,'html.parser')\n",
    "\n",
    "data1 = soup.find('div',{'class': 'info_list weather_condition _tabContent'})\n",
    "\n",
    "data2 = data1.findAll('ul')\n",
    "\n",
    "inform_weather = data2[0].find('li',{'class':'on'})\n",
    "\n",
    "print(inform_weather.text)\n",
    "#main_pack > div.sc.cs_weather._weather > div:nth-child() > div.weather_box > div.weather_area._mainArea > div.today_area._mainTabContent > div.table_info.bytime._todayWeatherByTime > div.info_list.weather_condition._tabContent > ul > li.on.now\n",
    "\n"
   ]
  },
  {
   "cell_type": "code",
   "execution_count": 272,
   "metadata": {},
   "outputs": [
    {
     "ename": "AttributeError",
     "evalue": "'NoneType' object has no attribute 'find'",
     "output_type": "error",
     "traceback": [
      "\u001b[0;31m---------------------------------------------------------------------------\u001b[0m",
      "\u001b[0;31mAttributeError\u001b[0m                            Traceback (most recent call last)",
      "\u001b[0;32m<ipython-input-272-4a916575036b>\u001b[0m in \u001b[0;36m<module>\u001b[0;34m\u001b[0m\n\u001b[1;32m      9\u001b[0m \u001b[0mdata1\u001b[0m \u001b[0;34m=\u001b[0m \u001b[0msoup\u001b[0m\u001b[0;34m.\u001b[0m\u001b[0mfind\u001b[0m\u001b[0;34m(\u001b[0m\u001b[0;34m'div'\u001b[0m\u001b[0;34m,\u001b[0m\u001b[0;34m{\u001b[0m\u001b[0;34m'class'\u001b[0m\u001b[0;34m:\u001b[0m \u001b[0;34m'gic'\u001b[0m\u001b[0;34m}\u001b[0m\u001b[0;34m)\u001b[0m\u001b[0;34m\u001b[0m\u001b[0;34m\u001b[0m\u001b[0m\n\u001b[1;32m     10\u001b[0m \u001b[0;34m\u001b[0m\u001b[0m\n\u001b[0;32m---> 11\u001b[0;31m \u001b[0mdata2\u001b[0m \u001b[0;34m=\u001b[0m \u001b[0mdata1\u001b[0m\u001b[0;34m.\u001b[0m\u001b[0mfind\u001b[0m\u001b[0;34m(\u001b[0m\u001b[0;34m'id'\u001b[0m\u001b[0;34m)\u001b[0m\u001b[0;34m.\u001b[0m\u001b[0mtext\u001b[0m\u001b[0;34m\u001b[0m\u001b[0;34m\u001b[0m\u001b[0m\n\u001b[0m\u001b[1;32m     12\u001b[0m \u001b[0;34m\u001b[0m\u001b[0m\n\u001b[1;32m     13\u001b[0m \u001b[0mprint\u001b[0m\u001b[0;34m(\u001b[0m\u001b[0mdata2\u001b[0m\u001b[0;34m)\u001b[0m\u001b[0;34m\u001b[0m\u001b[0;34m\u001b[0m\u001b[0m\n",
      "\u001b[0;31mAttributeError\u001b[0m: 'NoneType' object has no attribute 'find'"
     ]
    }
   ],
   "source": [
    "from bs4 import BeautifulSoup as bs\n",
    "from pprint import pprint\n",
    "import requests\n",
    "\n",
    "html = requests.get('https://www.google.com/search?q=weather+seoul')\n",
    "\n",
    "soup = bs(html.text,'html.parser')\n",
    "\n",
    "data1 = soup.find('div',{'class': 'gic'})\n",
    "\n",
    "data2 = data1.find('id').text\n",
    "\n",
    "print(data2)\n"
   ]
  },
  {
   "cell_type": "code",
   "execution_count": 274,
   "metadata": {},
   "outputs": [
    {
     "ename": "ImportError",
     "evalue": "cannot import name 'requests' from 'urllib' (/Users/nusys/opt/anaconda3/lib/python3.7/urllib/__init__.py)",
     "output_type": "error",
     "traceback": [
      "\u001b[0;31m---------------------------------------------------------------------------\u001b[0m",
      "\u001b[0;31mImportError\u001b[0m                               Traceback (most recent call last)",
      "\u001b[0;32m<ipython-input-274-2ec40bb86121>\u001b[0m in \u001b[0;36m<module>\u001b[0;34m\u001b[0m\n\u001b[0;32m----> 1\u001b[0;31m \u001b[0;32mfrom\u001b[0m \u001b[0murllib\u001b[0m \u001b[0;32mimport\u001b[0m \u001b[0mrequests\u001b[0m\u001b[0;34m,\u001b[0m \u001b[0mparse\u001b[0m\u001b[0;34m,\u001b[0m \u001b[0merror\u001b[0m\u001b[0;34m\u001b[0m\u001b[0;34m\u001b[0m\u001b[0m\n\u001b[0m\u001b[1;32m      2\u001b[0m \u001b[0;32mfrom\u001b[0m \u001b[0mbs4\u001b[0m \u001b[0;32mimport\u001b[0m \u001b[0mBeautifulSoup\u001b[0m\u001b[0;34m\u001b[0m\u001b[0;34m\u001b[0m\u001b[0m\n\u001b[1;32m      3\u001b[0m \u001b[0;34m\u001b[0m\u001b[0m\n\u001b[1;32m      4\u001b[0m \u001b[0murl\u001b[0m \u001b[0;34m=\u001b[0m \u001b[0;34m'https://www.google.com/search?q=weather+seoul'\u001b[0m\u001b[0;34m\u001b[0m\u001b[0;34m\u001b[0m\u001b[0m\n\u001b[1;32m      5\u001b[0m \u001b[0mresponse\u001b[0m \u001b[0;34m=\u001b[0m \u001b[0;34m\"\"\u001b[0m\u001b[0;34m\u001b[0m\u001b[0;34m\u001b[0m\u001b[0m\n",
      "\u001b[0;31mImportError\u001b[0m: cannot import name 'requests' from 'urllib' (/Users/nusys/opt/anaconda3/lib/python3.7/urllib/__init__.py)"
     ]
    }
   ],
   "source": [
    "from urllib import requests, parse, error\n",
    "from bs4 import BeautifulSoup\n",
    "\n",
    "url = 'https://www.google.com/search?q=weather+seoul'\n",
    "response = \"\"\n",
    "\n",
    "try:\n",
    "    response = request.urlopen(url)\n",
    "except:\n",
    "    print(\"URL 오류\")\n",
    "    exit(0)\n",
    "\n",
    "soup = BeautifulSoup(response.read(), 'html.parser')\n",
    "\n",
    "info_today = soup.find('div', {'class': 'gic'})\n",
    "\n",
    "print(info_today)\n",
    "\n",
    "\n",
    "\n",
    "    \n",
    "\n"
   ]
  },
  {
   "cell_type": "code",
   "execution_count": 268,
   "metadata": {},
   "outputs": [
    {
     "data": {
      "text/html": [
       "<div>\n",
       "<style scoped>\n",
       "    .dataframe tbody tr th:only-of-type {\n",
       "        vertical-align: middle;\n",
       "    }\n",
       "\n",
       "    .dataframe tbody tr th {\n",
       "        vertical-align: top;\n",
       "    }\n",
       "\n",
       "    .dataframe thead th {\n",
       "        text-align: right;\n",
       "    }\n",
       "</style>\n",
       "<table border=\"1\" class=\"dataframe\">\n",
       "  <thead>\n",
       "    <tr style=\"text-align: right;\">\n",
       "      <th></th>\n",
       "      <th>날짜</th>\n",
       "      <th>온도</th>\n",
       "    </tr>\n",
       "  </thead>\n",
       "  <tbody>\n",
       "    <tr>\n",
       "      <td>0</td>\n",
       "      <td>금 오늘</td>\n",
       "      <td>4°/15°</td>\n",
       "    </tr>\n",
       "    <tr>\n",
       "      <td>1</td>\n",
       "      <td>토 내일</td>\n",
       "      <td>11°/17°</td>\n",
       "    </tr>\n",
       "    <tr>\n",
       "      <td>2</td>\n",
       "      <td>일 모레</td>\n",
       "      <td>7°/18°</td>\n",
       "    </tr>\n",
       "    <tr>\n",
       "      <td>3</td>\n",
       "      <td>월 4.27.</td>\n",
       "      <td>7°/17°</td>\n",
       "    </tr>\n",
       "    <tr>\n",
       "      <td>4</td>\n",
       "      <td>화 4.28.</td>\n",
       "      <td>8°/19°</td>\n",
       "    </tr>\n",
       "    <tr>\n",
       "      <td>5</td>\n",
       "      <td>수 4.29.</td>\n",
       "      <td>9°/20°</td>\n",
       "    </tr>\n",
       "    <tr>\n",
       "      <td>6</td>\n",
       "      <td>목 4.30.</td>\n",
       "      <td>10°/22°</td>\n",
       "    </tr>\n",
       "    <tr>\n",
       "      <td>7</td>\n",
       "      <td>금 5.1.</td>\n",
       "      <td>12°/24°</td>\n",
       "    </tr>\n",
       "    <tr>\n",
       "      <td>8</td>\n",
       "      <td>토 5.2.</td>\n",
       "      <td>13°/24°</td>\n",
       "    </tr>\n",
       "    <tr>\n",
       "      <td>9</td>\n",
       "      <td>일 5.3.</td>\n",
       "      <td>14°/22°</td>\n",
       "    </tr>\n",
       "  </tbody>\n",
       "</table>\n",
       "</div>"
      ],
      "text/plain": [
       "         날짜       온도\n",
       "0     금 오늘    4°/15°\n",
       "1     토 내일   11°/17°\n",
       "2     일 모레    7°/18°\n",
       "3  월 4.27.    7°/17°\n",
       "4  화 4.28.    8°/19°\n",
       "5  수 4.29.    9°/20°\n",
       "6  목 4.30.   10°/22°\n",
       "7   금 5.1.   12°/24°\n",
       "8   토 5.2.   13°/24°\n",
       "9   일 5.3.   14°/22°"
      ]
     },
     "execution_count": 268,
     "metadata": {},
     "output_type": "execute_result"
    }
   ],
   "source": [
    "from bs4 import BeautifulSoup as bs\n",
    "from pprint import pprint\n",
    "import requests\n",
    "import pandas as pd\n",
    "\n",
    "html = requests.get('https://search.naver.com/search.naver?query=날씨')\n",
    "\n",
    "soup = bs(html.text,'html.parser')\n",
    "\n",
    "data1 = soup.find('ul',{'class': 'list_area _pageList'})\n",
    "date = soup.findAll('span',{'class': 'day_info'})\n",
    "dl = soup.findAll('dl')\n",
    "\n",
    "temperature = soup.select(\n",
    "    \"div.table_info.weekly._weeklyWeather > ul > li> dl > dd\"\n",
    ")\n",
    " \n",
    "list_date = []    \n",
    "for idx, val in enumerate(date):\n",
    "    list_date.append(val.text)\n",
    "    \n",
    "\n",
    "list_temp = []\n",
    "for idx, val in enumerate(temperature):\n",
    "    list_temp.append(val.text)\n",
    "    \n",
    "    \n",
    "df_naver_temp = pd.DataFrame(columns = ['날짜','온도'])\n",
    "df_naver_temp['날짜'] = list_date\n",
    "df_naver_temp['온도'] = list_temp\n",
    "df_naver_temp"
   ]
  },
  {
   "cell_type": "markdown",
   "metadata": {},
   "source": [
    "#  4.17 _구글 날씨 _\n",
    "### 구글 날씨 크롤링 "
   ]
  },
  {
   "cell_type": "markdown",
   "metadata": {},
   "source": [
    "# 4.26\n",
    "## div크롤링 태그 \n",
    "from bs4 import BeautifulSoup as bs\n",
    "from pprint import pprint\n",
    "import requests\n",
    "import pandas as pd\n",
    "\n",
    "header = {'User-Agent': 'Mozilla/5.0 (Macintosh; Intel Mac OS X 10_15_4) AppleWebKit/537.36 (KHTML, like Gecko) Chrome/81.0.4044.92'}\n",
    "\n",
    "soup = BeautifulSoup(requests.get(\"https://www.google.com/search?q=weather+seoul\").content)\n",
    "    \n",
    "html = soup.find(\"div\", attrs={'id': 'wob_loc'}).text\n",
    "print(html)tag.attrs"
   ]
  },
  {
   "cell_type": "code",
   "execution_count": 276,
   "metadata": {},
   "outputs": [
    {
     "name": "stdout",
     "output_type": "stream",
     "text": [
      "None\n"
     ]
    }
   ],
   "source": [
    "##\n",
    "\n",
    "from bs4 import BeautifulSoup as bs\n",
    "from pprint import pprint\n",
    "import requests\n",
    "import pandas as pd\n",
    "\n",
    "header = {'User-Agent': 'Mozilla/5.0 (Macintosh; Intel Mac OS X 10_15_4) AppleWebKit/537.36 (KHTML, like Gecko) Chrome/81.0.4044.92 Safari/537.36'}\n",
    "\n",
    "html = requests.get('https://www.google.com/search?q=weather+seoul')\n",
    "\n",
    "soup = bs(html.content,'html.parser')\n",
    "\n",
    "data1 = soup.select_one(\"#wob_dp > div.wob_df.wob_ds > div:nth-child(3) > div.vk_gy > span:nth-child(1)\")\n",
    "print(data1)\n",
    "#wob_wc > div:nth-child(5)\n",
    "#wob_dp > div.wob_df.wob_ds\n",
    "\n"
   ]
  },
  {
   "cell_type": "code",
   "execution_count": 264,
   "metadata": {},
   "outputs": [
    {
     "ename": "TypeError",
     "evalue": "find() takes no keyword arguments",
     "output_type": "error",
     "traceback": [
      "\u001b[0;31m---------------------------------------------------------------------------\u001b[0m",
      "\u001b[0;31mTypeError\u001b[0m                                 Traceback (most recent call last)",
      "\u001b[0;32m<ipython-input-264-99dc5d8da58d>\u001b[0m in \u001b[0;36m<module>\u001b[0;34m\u001b[0m\n\u001b[1;32m     10\u001b[0m \u001b[0msoup\u001b[0m \u001b[0;34m=\u001b[0m \u001b[0mbs\u001b[0m\u001b[0;34m(\u001b[0m\u001b[0mhtml\u001b[0m\u001b[0;34m.\u001b[0m\u001b[0mtext\u001b[0m\u001b[0;34m,\u001b[0m\u001b[0;34m'html.parser'\u001b[0m\u001b[0;34m)\u001b[0m\u001b[0;34m.\u001b[0m\u001b[0mtext\u001b[0m\u001b[0;34m\u001b[0m\u001b[0;34m\u001b[0m\u001b[0m\n\u001b[1;32m     11\u001b[0m \u001b[0;34m\u001b[0m\u001b[0m\n\u001b[0;32m---> 12\u001b[0;31m \u001b[0mdata1\u001b[0m \u001b[0;34m=\u001b[0m \u001b[0msoup\u001b[0m\u001b[0;34m.\u001b[0m\u001b[0mfind\u001b[0m\u001b[0;34m(\u001b[0m\u001b[0;34m\"div\"\u001b[0m\u001b[0;34m,\u001b[0m \u001b[0mattrs\u001b[0m\u001b[0;34m=\u001b[0m\u001b[0;34m{\u001b[0m\u001b[0;34m'id'\u001b[0m\u001b[0;34m:\u001b[0m \u001b[0;34m'wob_loc'\u001b[0m\u001b[0;34m}\u001b[0m\u001b[0;34m)\u001b[0m\u001b[0;34m.\u001b[0m\u001b[0mtext\u001b[0m\u001b[0;34m\u001b[0m\u001b[0;34m\u001b[0m\u001b[0m\n\u001b[0m\u001b[1;32m     13\u001b[0m \u001b[0mprint\u001b[0m\u001b[0;34m(\u001b[0m\u001b[0mdata1\u001b[0m\u001b[0;34m)\u001b[0m\u001b[0;34m\u001b[0m\u001b[0;34m\u001b[0m\u001b[0m\n\u001b[1;32m     14\u001b[0m \u001b[0;34m\u001b[0m\u001b[0m\n",
      "\u001b[0;31mTypeError\u001b[0m: find() takes no keyword arguments"
     ]
    }
   ],
   "source": [
    "from bs4 import BeautifulSoup as bs\n",
    "from pprint import pprint\n",
    "import requests\n",
    "import pandas as pd\n",
    "\n",
    "header = {'User-Agent': 'Mozilla/5.0 (Macintosh; Intel Mac OS X 10_15_4) AppleWebKit/537.36 (KHTML, like Gecko) Chrome/81.0.4044.92 Safari/537.36'}\n",
    "\n",
    "html = requests.get('https://weather.com/weather/tenday/l/522c5395403f76a787d134ed5ce600f402dea03ab701cdf2b7847bc31d68dd40')\n",
    "\n",
    "soup = bs(html.text,'html.parser').text\n",
    "\n",
    "data1 = soup.find(\"div\", attrs={'id': 'wob_loc'}).text\n",
    "print(data1)\n",
    "\n",
    "    #wob_dp > div.wob_df.wob_ds > div.vk_lgy"
   ]
  },
  {
   "cell_type": "code",
   "execution_count": null,
   "metadata": {},
   "outputs": [],
   "source": [
    "**구글 날씨 크롤링1 **\n",
    "> api이용한 것 \n",
    "\n",
    "import requests, parse, error\n",
    "from pprint import pprint\n",
    "def weather_data(query):\n",
    "    res=requests.get('http://api.openweathermap.org/data/2.5/weather?'+query+');\n",
    "    return res.json();\n",
    "def print_weather(result,city):\n",
    "    print(\"{}'s temperature: {}°C \".format(city,result['main']['temp']))\n",
    "    print(\"Wind speed: {} m/s\".format(result['wind']['speed']))\n",
    "    print(\"Description: {}\".format(result['weather'][0]['description']))\n",
    "    print(\"Weather: {}\".format(result['weather'][0]['main']))\n",
    "def main():\n",
    "    city=input('Enter the city:')\n",
    "    print()\n",
    "    try:\n",
    "      query='q='+city;\n",
    "      w_data=weather_data(query);\n",
    "      print_weather(w_data, city)\n",
    "      print()\n",
    "    except:\n",
    "      print('City name not found...')\n",
    "if __name__=='__main__':\n",
    "    main()\n",
    "  #wob_dp > div.wob_df.wob_ds > div:nth-child(3) > div.vk_gy > span:nth-child(1)"
   ]
  },
  {
   "cell_type": "code",
   "execution_count": 279,
   "metadata": {},
   "outputs": [
    {
     "name": "stdout",
     "output_type": "stream",
     "text": [
      "      day    date           desc    temp precip         wind humidity\n",
      "0   Today  APR 24          Sunny  58°48°     0%  WSW 17 mph       40%\n",
      "1     Sat  APR 25  Partly Cloudy  62°39°     0%  WSW 15 mph       48%\n",
      "2     Sun  APR 26   Mostly Sunny  64°40°     0%  WNW 11 mph       30%\n",
      "3     Mon  APR 27   Mostly Sunny  62°39°     0%  WSW 11 mph       42%\n",
      "4     Tue  APR 28   Mostly Sunny  64°44°     0%  WSW 11 mph       39%\n",
      "5     Wed  APR 29          Sunny  67°46°    10%   SW 14 mph       46%\n",
      "6     Thu  APR 30  Partly Cloudy  71°50°    10%  SSW 11 mph       44%\n",
      "7     Fri   MAY 1  Partly Cloudy  70°52°    20%   SW 10 mph       55%\n",
      "8     Sat   MAY 2  Partly Cloudy  71°53°    10%    SW 9 mph       57%\n",
      "9     Sun   MAY 3  Mostly Cloudy  73°54°    20%    SW 7 mph       58%\n",
      "10    Mon   MAY 4        Showers  72°53°    40%   SSW 8 mph       57%\n",
      "11    Tue   MAY 5     AM Showers  70°52°    50%   WSW 9 mph       58%\n",
      "12    Wed   MAY 6  Partly Cloudy  71°51°    20%   WSW 9 mph       52%\n",
      "13    Thu   MAY 7  Partly Cloudy  72°51°    20%     W 9 mph       46%\n",
      "14    Fri   MAY 8     PM Showers  72°52°    30%     W 9 mph       41%\n"
     ]
    }
   ],
   "source": [
    "import requests\n",
    "from bs4 import BeautifulSoup\n",
    "page=requests.get(\"https://weather.com/weather/tenday/l/522c5395403f76a787d134ed5ce600f402dea03ab701cdf2b7847bc31d68dd40\")\n",
    "content=page.content\n",
    "soup=BeautifulSoup(content,\"html.parser\")\n",
    "l=[]\n",
    "all=soup.find(\"div\",{\"class\":\"locations-title ten-day-page-title\"}).find(\"h1\").text\n",
    " \n",
    "\n",
    "table=soup.find_all(\"table\",{\"class\":\"twc-table\"})\n",
    "for items in table:\n",
    "    for i in range(len(items.find_all(\"tr\"))-1):\n",
    "        d = {}\n",
    "        try:\n",
    "            d[\"day\"]=items.find_all(\"span\",{\"class\":\"date-time\"})[i].text\n",
    "            d[\"date\"]=items.find_all(\"span\",{\"class\":\"day-detail\"})[i].text\t\t\t\n",
    "            d[\"desc\"]=items.find_all(\"td\",{\"class\":\"description\"})[i].text\n",
    "            d[\"temp\"]=items.find_all(\"td\",{\"class\":\"temp\"})[i].text\n",
    "            d[\"precip\"]=items.find_all(\"td\",{\"class\":\"precip\"})[i].text\n",
    "            d[\"wind\"]=items.find_all(\"td\",{\"class\":\"wind\"})[i].text\n",
    "            d[\"humidity\"]=items.find_all(\"td\",{\"class\":\"humidity\"})[i].text\n",
    "        except:\n",
    "            d[\"day\"]=\"None\"\n",
    "            d[\"date\"]=\"None\"\n",
    "            d[\"desc\"]=\"None\"\n",
    "            d[\"temp\"]=\"None\"\n",
    "            d[\"precip\"]=\"None\"\n",
    "            d[\"wind\"]=\"None\"\n",
    "            d[\"humidity\"]=\"None\"\n",
    "        l.append(d)\n",
    "\n",
    "import pandas\n",
    "df = pandas.DataFrame(l)\n",
    "print(df)\n",
    "df.to_csv(\"output.csv\")\t"
   ]
  },
  {
   "cell_type": "code",
   "execution_count": 279,
   "metadata": {},
   "outputs": [
    {
     "name": "stdout",
     "output_type": "stream",
     "text": [
      "      day    date           desc    temp precip         wind humidity\n",
      "0   Today  APR 24          Sunny  58°48°     0%  WSW 17 mph       40%\n",
      "1     Sat  APR 25  Partly Cloudy  62°39°     0%  WSW 15 mph       48%\n",
      "2     Sun  APR 26   Mostly Sunny  64°40°     0%  WNW 11 mph       30%\n",
      "3     Mon  APR 27   Mostly Sunny  62°39°     0%  WSW 11 mph       42%\n",
      "4     Tue  APR 28   Mostly Sunny  64°44°     0%  WSW 11 mph       39%\n",
      "5     Wed  APR 29          Sunny  67°46°    10%   SW 14 mph       46%\n",
      "6     Thu  APR 30  Partly Cloudy  71°50°    10%  SSW 11 mph       44%\n",
      "7     Fri   MAY 1  Partly Cloudy  70°52°    20%   SW 10 mph       55%\n",
      "8     Sat   MAY 2  Partly Cloudy  71°53°    10%    SW 9 mph       57%\n",
      "9     Sun   MAY 3  Mostly Cloudy  73°54°    20%    SW 7 mph       58%\n",
      "10    Mon   MAY 4        Showers  72°53°    40%   SSW 8 mph       57%\n",
      "11    Tue   MAY 5     AM Showers  70°52°    50%   WSW 9 mph       58%\n",
      "12    Wed   MAY 6  Partly Cloudy  71°51°    20%   WSW 9 mph       52%\n",
      "13    Thu   MAY 7  Partly Cloudy  72°51°    20%     W 9 mph       46%\n",
      "14    Fri   MAY 8     PM Showers  72°52°    30%     W 9 mph       41%\n"
     ]
    }
   ],
   "source": [
    "import requests\n",
    "from bs4 import BeautifulSoup\n",
    "page=requests.get(\"https://weather.com/weather/tenday/l/522c5395403f76a787d134ed5ce600f402dea03ab701cdf2b7847bc31d68dd40\")\n",
    "content=page.content\n",
    "soup=BeautifulSoup(content,\"html.parser\")\n",
    "l=[]\n",
    "all=soup.find(\"div\",{\"class\":\"locations-title ten-day-page-title\"}).find(\"h1\").text\n",
    " \n",
    "\n",
    "table=soup.find_all(\"table\",{\"class\":\"twc-table\"})\n",
    "for items in table:\n",
    "    for i in range(len(items.find_all(\"tr\"))-1):\n",
    "        d = {}\n",
    "        try:\n",
    "            d[\"day\"]=items.find_all(\"span\",{\"class\":\"date-time\"})[i].text\n",
    "            d[\"date\"]=items.find_all(\"span\",{\"class\":\"day-detail\"})[i].text\t\t\t\n",
    "            d[\"desc\"]=items.find_all(\"td\",{\"class\":\"description\"})[i].text\n",
    "            d[\"temp\"]=items.find_all(\"td\",{\"class\":\"temp\"})[i].text\n",
    "            d[\"precip\"]=items.find_all(\"td\",{\"class\":\"precip\"})[i].text\n",
    "            d[\"wind\"]=items.find_all(\"td\",{\"class\":\"wind\"})[i].text\n",
    "            d[\"humidity\"]=items.find_all(\"td\",{\"class\":\"humidity\"})[i].text\n",
    "        except:\n",
    "            d[\"day\"]=\"None\"\n",
    "            d[\"date\"]=\"None\"\n",
    "            d[\"desc\"]=\"None\"\n",
    "            d[\"temp\"]=\"None\"\n",
    "            d[\"precip\"]=\"None\"\n",
    "            d[\"wind\"]=\"None\"\n",
    "            d[\"humidity\"]=\"None\"\n",
    "        l.append(d)\n",
    "\n",
    "import pandas\n",
    "df = pandas.DataFrame(l)\n",
    "print(df)\n",
    "df.to_csv(\"output.csv\")\t"
   ]
  },
  {
   "cell_type": "code",
   "execution_count": 279,
   "metadata": {},
   "outputs": [
    {
     "name": "stdout",
     "output_type": "stream",
     "text": [
      "      day    date           desc    temp precip         wind humidity\n",
      "0   Today  APR 24          Sunny  58°48°     0%  WSW 17 mph       40%\n",
      "1     Sat  APR 25  Partly Cloudy  62°39°     0%  WSW 15 mph       48%\n",
      "2     Sun  APR 26   Mostly Sunny  64°40°     0%  WNW 11 mph       30%\n",
      "3     Mon  APR 27   Mostly Sunny  62°39°     0%  WSW 11 mph       42%\n",
      "4     Tue  APR 28   Mostly Sunny  64°44°     0%  WSW 11 mph       39%\n",
      "5     Wed  APR 29          Sunny  67°46°    10%   SW 14 mph       46%\n",
      "6     Thu  APR 30  Partly Cloudy  71°50°    10%  SSW 11 mph       44%\n",
      "7     Fri   MAY 1  Partly Cloudy  70°52°    20%   SW 10 mph       55%\n",
      "8     Sat   MAY 2  Partly Cloudy  71°53°    10%    SW 9 mph       57%\n",
      "9     Sun   MAY 3  Mostly Cloudy  73°54°    20%    SW 7 mph       58%\n",
      "10    Mon   MAY 4        Showers  72°53°    40%   SSW 8 mph       57%\n",
      "11    Tue   MAY 5     AM Showers  70°52°    50%   WSW 9 mph       58%\n",
      "12    Wed   MAY 6  Partly Cloudy  71°51°    20%   WSW 9 mph       52%\n",
      "13    Thu   MAY 7  Partly Cloudy  72°51°    20%     W 9 mph       46%\n",
      "14    Fri   MAY 8     PM Showers  72°52°    30%     W 9 mph       41%\n"
     ]
    }
   ],
   "source": [
    "import requests\n",
    "from bs4 import BeautifulSoup\n",
    "page=requests.get(\"https://weather.com/weather/tenday/l/522c5395403f76a787d134ed5ce600f402dea03ab701cdf2b7847bc31d68dd40\")\n",
    "content=page.content\n",
    "soup=BeautifulSoup(content,\"html.parser\")\n",
    "l=[]\n",
    "all=soup.find(\"div\",{\"class\":\"locations-title ten-day-page-title\"}).find(\"h1\").text\n",
    " \n",
    "\n",
    "table=soup.find_all(\"table\",{\"class\":\"twc-table\"})\n",
    "for items in table:\n",
    "    for i in range(len(items.find_all(\"tr\"))-1):\n",
    "        d = {}\n",
    "        try:\n",
    "            d[\"day\"]=items.find_all(\"span\",{\"class\":\"date-time\"})[i].text\n",
    "            d[\"date\"]=items.find_all(\"span\",{\"class\":\"day-detail\"})[i].text\t\t\t\n",
    "            d[\"desc\"]=items.find_all(\"td\",{\"class\":\"description\"})[i].text\n",
    "            d[\"temp\"]=items.find_all(\"td\",{\"class\":\"temp\"})[i].text\n",
    "            d[\"precip\"]=items.find_all(\"td\",{\"class\":\"precip\"})[i].text\n",
    "            d[\"wind\"]=items.find_all(\"td\",{\"class\":\"wind\"})[i].text\n",
    "            d[\"humidity\"]=items.find_all(\"td\",{\"class\":\"humidity\"})[i].text\n",
    "        except:\n",
    "            d[\"day\"]=\"None\"\n",
    "            d[\"date\"]=\"None\"\n",
    "            d[\"desc\"]=\"None\"\n",
    "            d[\"temp\"]=\"None\"\n",
    "            d[\"precip\"]=\"None\"\n",
    "            d[\"wind\"]=\"None\"\n",
    "            d[\"humidity\"]=\"None\"\n",
    "        l.append(d)\n",
    "\n",
    "import pandas\n",
    "df = pandas.DataFrame(l)\n",
    "print(df)\n",
    "df.to_csv(\"output.csv\")\t"
   ]
  },
  {
   "cell_type": "code",
   "execution_count": null,
   "metadata": {},
   "outputs": [],
   "source": []
  },
  {
   "cell_type": "code",
   "execution_count": null,
   "metadata": {},
   "outputs": [],
   "source": []
  },
  {
   "cell_type": "code",
   "execution_count": null,
   "metadata": {},
   "outputs": [],
   "source": []
  }
 ],
 "metadata": {
  "kernelspec": {
   "display_name": "Python 3",
   "language": "python",
   "name": "python3"
  },
  "language_info": {
   "codemirror_mode": {
    "name": "ipython",
    "version": 3
   },
   "file_extension": ".py",
   "mimetype": "text/x-python",
   "name": "python",
   "nbconvert_exporter": "python",
   "pygments_lexer": "ipython3",
   "version": "3.7.4"
  }
 },
 "nbformat": 4,
 "nbformat_minor": 2
}
