{
 "cells": [
  {
   "cell_type": "code",
   "execution_count": 1,
   "metadata": {},
   "outputs": [
    {
     "name": "stdout",
     "output_type": "stream",
     "text": [
      "<span class=\"num\">48㎍/㎥</span>\n"
     ]
    }
   ],
   "source": [
    "from bs4 import BeautifulSoup as bs\n",
    "from pprint import pprint\n",
    "import requests\n",
    "\n",
    "html = requests.get('https://search.naver.com/search.naver?query=날씨')\n",
    "\n",
    "soup = bs(html.text,'html.parser')\n",
    "\n",
    "data1 = soup.find('div',{'class':'detail_box'})\n",
    "\n",
    "data2 = data1.findAll('dd')\n",
    "\n",
    "fine_dust = data2[0].find('span',{'class':'num'})\n",
    "print(fine_dust)"
   ]
  },
  {
   "cell_type": "code",
   "execution_count": 10,
   "metadata": {},
   "outputs": [
    {
     "name": "stdout",
     "output_type": "stream",
     "text": [
      "현재 응암동 날씨는 16도 입니다.\n"
     ]
    }
   ],
   "source": [
    "from urllib.request import urlopen, Request\n",
    "import urllib\n",
    "import bs4\n",
    "\n",
    "location = '응암동'\n",
    "enc_location = urllib.parse.quote(location + '+날씨')\n",
    "\n",
    "url = 'https://search.naver.com/search.naver?ie=utf8&query='+ enc_location\n",
    "\n",
    "req = Request(url)\n",
    "page = urlopen(req)\n",
    "html = page.read()\n",
    "soup = bs4.BeautifulSoup(html,'html5lib')\n",
    "print('현재 ' + location + ' 날씨는 ' + soup.find('p', class_='info_temperature').find('span', class_='todaytemp').text + '도 입니다.')"
   ]
  },
  {
   "cell_type": "code",
   "execution_count": 11,
   "metadata": {},
   "outputs": [
    {
     "ename": "ModuleNotFoundError",
     "evalue": "No module named 'teleport'",
     "output_type": "error",
     "traceback": [
      "\u001b[0;31m---------------------------------------------------------------------------\u001b[0m",
      "\u001b[0;31mModuleNotFoundError\u001b[0m                       Traceback (most recent call last)",
      "\u001b[0;32m<ipython-input-11-55033e287b82>\u001b[0m in \u001b[0;36m<module>\u001b[0;34m\u001b[0m\n\u001b[0;32m----> 1\u001b[0;31m \u001b[0;32mimport\u001b[0m \u001b[0mteleport\u001b[0m\u001b[0;34m\u001b[0m\u001b[0;34m\u001b[0m\u001b[0m\n\u001b[0m\u001b[1;32m      2\u001b[0m \u001b[0;32mimport\u001b[0m \u001b[0mrequests\u001b[0m\u001b[0;34m\u001b[0m\u001b[0;34m\u001b[0m\u001b[0m\n\u001b[1;32m      3\u001b[0m \u001b[0;32mfrom\u001b[0m \u001b[0mbs4\u001b[0m \u001b[0;32mimport\u001b[0m \u001b[0mBeautifulSoup\u001b[0m\u001b[0;34m\u001b[0m\u001b[0;34m\u001b[0m\u001b[0m\n",
      "\u001b[0;31mModuleNotFoundError\u001b[0m: No module named 'teleport'"
     ]
    }
   ],
   "source": [
    "import telepot\n",
    "from telepot.loop import MessageLoop\n",
    "import time\n",
    "import requests\n",
    "\n",
    "TOKEN_MAIN = '1118537264:AAHIv8FE5tdM-wH4PSYqeAT_mspvyaULcVU'\n",
    "symbol = \"\"\n",
    "\n",
    "\n",
    "\n"
   ]
  },
  {
   "cell_type": "code",
   "execution_count": 35,
   "metadata": {},
   "outputs": [
    {
     "name": "stdout",
     "output_type": "stream",
     "text": [
      "None\n"
     ]
    }
   ],
   "source": [
    "from bs4 import BeautifulSoup as bs\n",
    "from pprint import pprint\n",
    "import requests\n",
    "\n",
    "html = requests.get('https://search.naver.com/search.naver?query=날씨')\n",
    "\n",
    "soup = bs(html.text,'html.parser')\n",
    "\n",
    "data1 = soup.find('div',{'class': 'table_info weekly _weeklyWeather'})\n",
    "\n",
    "data2 = data1.findAll('ul')\n",
    "\n",
    "inform_weather = data2[0].find('li',{'class':'date_info_today'})\n",
    "\n",
    "print(inform_weather.text)"
   ]
  },
  {
   "cell_type": "code",
   "execution_count": null,
   "metadata": {},
   "outputs": [],
   "source": []
  }
 ],
 "metadata": {
  "kernelspec": {
   "display_name": "Python 3",
   "language": "python",
   "name": "python3"
  },
  "language_info": {
   "codemirror_mode": {
    "name": "ipython",
    "version": 3
   },
   "file_extension": ".py",
   "mimetype": "text/x-python",
   "name": "python",
   "nbconvert_exporter": "python",
   "pygments_lexer": "ipython3",
   "version": "3.7.4"
  }
 },
 "nbformat": 4,
 "nbformat_minor": 2
}
