## 마크다운

import requests
from bs4 import BeautifulSoup
page=requests.get("https://weather.com/weather/tenday/l/522c5395403f76a787d134ed5ce600f402dea03ab701cdf2b7847bc31d68dd40")
content=page.content
soup=BeautifulSoup(content,"html.parser")
l=[]
all=soup.find("div",{"class":"locations-title ten-day-page-title"}).find("h1").text
 

table=soup.find_all("table",{"class":"twc-table"})
for items in table:
    for i in range(len(items.find_all("tr"))-1):
        d = {}
        try:
            d["day"]=items.find_all("span",{"class":"date-time"})[i].text
            d["date"]=items.find_all("span",{"class":"day-detail"})[i].text			
            d["desc"]=items.find_all("td",{"class":"description"})[i].text
            d["temp"]=items.find_all("td",{"class":"temp"})[i].text
            d["precip"]=items.find_all("td",{"class":"precip"})[i].text
            d["wind"]=items.find_all("td",{"class":"wind"})[i].text
            d["humidity"]=items.find_all("td",{"class":"humidity"})[i].text
        except:
            d["day"]="None"
            d["date"]="None"
            d["desc"]="None"
            d["temp"]="None"
            d["precip"]="None"
            d["wind"]="None"
            d["humidity"]="None"
        l.append(d)

import pandas
df = pandas.DataFrame(l)
print(df)
df.to_csv("output.csv")	

## 구글 숙제1 
import requests, parse, error
from pprint import pprint
def weather_data(query):
    res=requests.get('http://api.openweathermap.org/data/2.5/weather?'+query+');
    return res.json();
def print_weather(result,city):
    print("{}'s temperature: {}°C ".format(city,result['main']['temp']))
    print("Wind speed: {} m/s".format(result['wind']['speed']))
    print("Description: {}".format(result['weather'][0]['description']))
    print("Weather: {}".format(result['weather'][0]['main']))
def main():
    city=input('Enter the city:')
    print()
    try:
      query='q='+city;
      w_data=weather_data(query);
      print_weather(w_data, city)
      print()
    except:
      print('City name not found...')
if __name__=='__main__':
    main()
  #wob_dp > div.wob_df.wob_ds > div:nth-child(3) > div.vk_gy > span:nth-child(1)
