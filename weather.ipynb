{
 "cells": [
  {
   "cell_type": "code",
   "execution_count": 1,
   "metadata": {},
   "outputs": [
    {
     "name": "stdout",
     "output_type": "stream",
     "text": [
      "<span class=\"num\">48㎍/㎥</span>\n"
     ]
    }
   ],
   "source": [
    "from bs4 import BeautifulSoup as bs\n",
    "from pprint import pprint\n",
    "import requests\n",
    "\n",
    "html = requests.get('https://search.naver.com/search.naver?query=날씨')\n",
    "\n",
    "soup = bs(html.text,'html.parser')\n",
    "\n",
    "data1 = soup.find('div',{'class':'detail_box'})\n",
    "\n",
    "data2 = data1.findAll('dd')\n",
    "\n",
    "fine_dust = data2[0].find('span',{'class':'num'})\n",
    "print(fine_dust)"
   ]
  },
  {
   "cell_type": "code",
   "execution_count": 2,
   "metadata": {},
   "outputs": [
    {
     "name": "stdout",
     "output_type": "stream",
     "text": [
      "현재 응암동 날씨는 19도 입니다.\n"
     ]
    }
   ],
   "source": [
    "from urllib.request import urlopen, Request\n",
    "import urllib\n",
    "import bs4\n",
    "\n",
    "location = '응암동'\n",
    "enc_location = urllib.parse.quote(location + '+날씨')\n",
    "\n",
    "url = 'https://search.naver.com/search.naver?ie=utf8&query='+ enc_location\n",
    "\n",
    "req = Request(url)\n",
    "page = urlopen(req)\n",
    "html = page.read()\n",
    "soup = bs4.BeautifulSoup(html,'html5lib')\n",
    "print('현재 ' + location + ' 날씨는 ' + soup.find('p', class_='info_temperature').find('span', class_='todaytemp').text + '도 입니다.')"
   ]
  },
  {
   "cell_type": "code",
   "execution_count": null,
   "metadata": {},
   "outputs": [],
   "source": []
  }
 ],
 "metadata": {
  "kernelspec": {
   "display_name": "Python 3",
   "language": "python",
   "name": "python3"
  },
  "language_info": {
   "codemirror_mode": {
    "name": "ipython",
    "version": 3
   },
   "file_extension": ".py",
   "mimetype": "text/x-python",
   "name": "python",
   "nbconvert_exporter": "python",
   "pygments_lexer": "ipython3",
   "version": "3.7.4"
  }
 },
 "nbformat": 4,
 "nbformat_minor": 2
}
