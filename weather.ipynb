{
 "cells": [
  {
   "cell_type": "markdown",
   "metadata": {},
   "source": [
    "from bs4 import BeautifulSoup as bs\n",
    "from pprint import pprint\n",
    "import requests\n",
    "\n",
    "html = requests.get('https://search.naver.com/search.naver?query=날씨')\n",
    "\n",
    "soup = bs(html.text,'html.parser')\n",
    "\n",
    "data1 = soup.find('div',{'class':'detail_box'})\n",
    "\n",
    "data2 = data1.findAll('dd')\n",
    "\n",
    "fine_dust = data2[0].find('span',{'class':'num'})\n",
    "print(fine_dust)"
   ]
  },
  {
   "cell_type": "code",
   "execution_count": 50,
   "metadata": {},
   "outputs": [
    {
     "name": "stdout",
     "output_type": "stream",
     "text": [
      "현재 응암동 날씨는 12도 입니다.\n"
     ]
    }
   ],
   "source": [
    "from urllib.request import urlopen, Request\n",
    "import urllib\n",
    "import bs4\n",
    "\n",
    "location = '응암동'\n",
    "enc_location = urllib.parse.quote(location + '+날씨')\n",
    "\n",
    "url = 'https://search.naver.com/search.naver?ie=utf8&query='+ enc_location\n",
    "\n",
    "req = Request(url)\n",
    "page = urlopen(req)\n",
    "html = page.read()\n",
    "soup = bs4.BeautifulSoup(html,'html5lib')\n",
    "print('현재 ' + location + ' 날씨는 ' + soup.find('p', class_='info_temperature').find('span', class_='todaytemp').text + '도 입니다.')"
   ]
  },
  {
   "cell_type": "code",
   "execution_count": 11,
   "metadata": {},
   "outputs": [
    {
     "ename": "ModuleNotFoundError",
     "evalue": "No module named 'teleport'",
     "output_type": "error",
     "traceback": [
      "\u001b[0;31m---------------------------------------------------------------------------\u001b[0m",
      "\u001b[0;31mModuleNotFoundError\u001b[0m                       Traceback (most recent call last)",
      "\u001b[0;32m<ipython-input-11-55033e287b82>\u001b[0m in \u001b[0;36m<module>\u001b[0;34m\u001b[0m\n\u001b[0;32m----> 1\u001b[0;31m \u001b[0;32mimport\u001b[0m \u001b[0mteleport\u001b[0m\u001b[0;34m\u001b[0m\u001b[0;34m\u001b[0m\u001b[0m\n\u001b[0m\u001b[1;32m      2\u001b[0m \u001b[0;32mimport\u001b[0m \u001b[0mrequests\u001b[0m\u001b[0;34m\u001b[0m\u001b[0;34m\u001b[0m\u001b[0m\n\u001b[1;32m      3\u001b[0m \u001b[0;32mfrom\u001b[0m \u001b[0mbs4\u001b[0m \u001b[0;32mimport\u001b[0m \u001b[0mBeautifulSoup\u001b[0m\u001b[0;34m\u001b[0m\u001b[0;34m\u001b[0m\u001b[0m\n",
      "\u001b[0;31mModuleNotFoundError\u001b[0m: No module named 'teleport'"
     ]
    }
   ],
   "source": [
    "import telepot\n",
    "from telepot.loop import MessageLoop\n",
    "import time\n",
    "import requests\n",
    "\n",
    "TOKEN_MAIN = '1118537264:AAHIv8FE5tdM-wH4PSYqeAT_mspvyaULcVU'\n",
    "symbol = \"\"\n",
    "\n",
    "startMsg = \"명령어\\n\" \\\n",
    "            \"1.\n",
    "\n"
   ]
  },
  {
   "cell_type": "code",
   "execution_count": 49,
   "metadata": {},
   "outputs": [
    {
     "name": "stdout",
     "output_type": "stream",
     "text": [
      " 토 오늘     강수확률 20%      강수확률 0%    최저,최고 온도 3°/12°  \n"
     ]
    }
   ],
   "source": [
    "from bs4 import BeautifulSoup as bs\n",
    "from pprint import pprint\n",
    "import requests\n",
    "\n",
    "html = requests.get('https://search.naver.com/search.naver?query=날씨')\n",
    "\n",
    "soup = bs(html.text,'html.parser')\n",
    "\n",
    "data1 = soup.find('div',{'class': 'table_info weekly _weeklyWeather'})\n",
    "\n",
    "data2 = data1.findAll('ul')\n",
    "\n",
    "inform_weather = data2[0].find('li',{'class':'date_info today'})\n",
    "\n",
    "print(inform_weather.text)\n",
    "#main_pack > div.sc.cs_weather._weather > div:nth-child(2) > div.weather_box > div.weather_area._mainArea > div.table_info.weekly._weeklyWeather > ul:nth-child(2)\n"
   ]
  },
  {
   "cell_type": "code",
   "execution_count": 19,
   "metadata": {},
   "outputs": [
    {
     "ename": "SelectorSyntaxError",
     "evalue": "Invalid syntax for pseudo class ':nth-child'\n  line 1:\n#main_pack > div.sc.cs_weather._weather > div:nth-child() > div.weather_box > div.weather_area._mainArea > div.today_area._mainTabContent > div.table_info.bytime._todayWeatherByTime > div.info_list.weather_condition._tabContent > ul > li.on.now\n                                             ^ (<string>)",
     "output_type": "error",
     "traceback": [
      "Traceback \u001b[0;36m(most recent call last)\u001b[0m:\n",
      "  File \u001b[1;32m\"/Users/nusys/opt/anaconda3/lib/python3.7/site-packages/IPython/core/interactiveshell.py\"\u001b[0m, line \u001b[1;32m3326\u001b[0m, in \u001b[1;35mrun_code\u001b[0m\n    exec(code_obj, self.user_global_ns, self.user_ns)\n",
      "  File \u001b[1;32m\"<ipython-input-19-dd11d664c1f8>\"\u001b[0m, line \u001b[1;32m8\u001b[0m, in \u001b[1;35m<module>\u001b[0m\n    print(soup.select('#main_pack > div.sc.cs_weather._weather > div:nth-child() > div.weather_box > div.weather_area._mainArea > div.today_area._mainTabContent > div.table_info.bytime._todayWeatherByTime > div.info_list.weather_condition._tabContent > ul > li.on.now'))\n",
      "  File \u001b[1;32m\"/Users/nusys/opt/anaconda3/lib/python3.7/site-packages/bs4/element.py\"\u001b[0m, line \u001b[1;32m1334\u001b[0m, in \u001b[1;35mselect\u001b[0m\n    return soupsieve.select(selector, self, namespaces, limit, **kwargs)\n",
      "  File \u001b[1;32m\"/Users/nusys/opt/anaconda3/lib/python3.7/site-packages/soupsieve/__init__.py\"\u001b[0m, line \u001b[1;32m114\u001b[0m, in \u001b[1;35mselect\u001b[0m\n    return compile(select, namespaces, flags, **kwargs).select(tag, limit)\n",
      "  File \u001b[1;32m\"/Users/nusys/opt/anaconda3/lib/python3.7/site-packages/soupsieve/__init__.py\"\u001b[0m, line \u001b[1;32m63\u001b[0m, in \u001b[1;35mcompile\u001b[0m\n    return cp._cached_css_compile(pattern, namespaces, custom, flags)\n",
      "  File \u001b[1;32m\"/Users/nusys/opt/anaconda3/lib/python3.7/site-packages/soupsieve/css_parser.py\"\u001b[0m, line \u001b[1;32m205\u001b[0m, in \u001b[1;35m_cached_css_compile\u001b[0m\n    CSSParser(pattern, custom=custom_selectors, flags=flags).process_selectors(),\n",
      "  File \u001b[1;32m\"/Users/nusys/opt/anaconda3/lib/python3.7/site-packages/soupsieve/css_parser.py\"\u001b[0m, line \u001b[1;32m1064\u001b[0m, in \u001b[1;35mprocess_selectors\u001b[0m\n    return self.parse_selectors(self.selector_iter(self.pattern), index, flags)\n",
      "  File \u001b[1;32m\"/Users/nusys/opt/anaconda3/lib/python3.7/site-packages/soupsieve/css_parser.py\"\u001b[0m, line \u001b[1;32m923\u001b[0m, in \u001b[1;35mparse_selectors\u001b[0m\n    has_selector, is_html = self.parse_pseudo_class(sel, m, has_selector, iselector, is_html)\n",
      "\u001b[0;36m  File \u001b[0;32m\"/Users/nusys/opt/anaconda3/lib/python3.7/site-packages/soupsieve/css_parser.py\"\u001b[0;36m, line \u001b[0;32m652\u001b[0;36m, in \u001b[0;35mparse_pseudo_class\u001b[0;36m\u001b[0m\n\u001b[0;31m    m.start(0)\u001b[0m\n",
      "\u001b[0;36m  File \u001b[0;32m\"<string>\"\u001b[0;36m, line \u001b[0;32munknown\u001b[0m\n\u001b[0;31mSelectorSyntaxError\u001b[0m\u001b[0;31m:\u001b[0m Invalid syntax for pseudo class ':nth-child'\n  line 1:\n#main_pack > div.sc.cs_weather._weather > div:nth-child() > div.weather_box > div.weather_area._mainArea > div.today_area._mainTabContent > div.table_info.bytime._todayWeatherByTime > div.info_list.weather_condition._tabContent > ul > li.on.now\n                                             ^\n"
     ]
    }
   ],
   "source": [
    "import requests\n",
    "from bs4 import BeautifulSoup\n",
    "\n",
    "req = requests.get('https://search.naver.com/search.naver?query=%EB%82%A0%EC%94%A8')\n",
    "source = req.text\n",
    "soup = BeautifulSoup(source, 'html.parser')\n",
    "\n",
    "print(soup.select('#main_pack > div.sc.cs_weather._weather > div:nth-child() > div.weather_box > div.weather_area._mainArea > div.today_area._mainTabContent > div.table_info.bytime._todayWeatherByTime > div.info_list.weather_condition._tabContent > ul > li.on.now'))\n"
   ]
  },
  {
   "cell_type": "code",
   "execution_count": 21,
   "metadata": {},
   "outputs": [
    {
     "name": "stdout",
     "output_type": "stream",
     "text": [
      "현재 위치: 서울특별시 은평구 응암2동\n",
      "현재 온도: 8℃\n"
     ]
    }
   ],
   "source": [
    "from bs4 import BeautifulSoup\n",
    "from pprint import pprint\n",
    "import requests\n",
    "\n",
    "html = requests.get('https://search.naver.com/search.naver?query=날씨')\n",
    "\n",
    "soup = BeautifulSoup(html.text, 'html.parser')\n",
    "\n",
    "data1 = soup.find('div', {'class': 'weather_box'})\n",
    "\n",
    "find_address = data1.find('span', {'class':'btn_select'}).text\n",
    "print('현재 위치: '+find_address)\n",
    "\n",
    "find_currenttemp = data1.find('span',{'class': 'todaytemp'}).text\n",
    "print('현재 온도: '+find_currenttemp+'℃')\n"
   ]
  },
  {
   "cell_type": "code",
   "execution_count": 29,
   "metadata": {},
   "outputs": [
    {
     "name": "stdout",
     "output_type": "stream",
     "text": [
      "  오늘 온도  8°도   날씨 흐림 시간   00시    \n"
     ]
    }
   ],
   "source": [
    "from bs4 import BeautifulSoup as bs\n",
    "from pprint import pprint\n",
    "import requests\n",
    "\n",
    "html = requests.get('https://search.naver.com/search.naver?query=날씨')\n",
    "\n",
    "soup = bs(html.text,'html.parser')\n",
    "\n",
    "data1 = soup.find('div',{'class': 'info_list weather_condition _tabContent'})\n",
    "\n",
    "data2 = data1.findAll('ul')\n",
    "\n",
    "inform_weather = data2[0].find('li',{'class':'on'})\n",
    "\n",
    "print(inform_weather.text)\n",
    "#main_pack > div.sc.cs_weather._weather > div:nth-child() > div.weather_box > div.weather_area._mainArea > div.today_area._mainTabContent > div.table_info.bytime._todayWeatherByTime > div.info_list.weather_condition._tabContent > ul > li.on.now\n",
    "\n"
   ]
  },
  {
   "cell_type": "code",
   "execution_count": 33,
   "metadata": {},
   "outputs": [
    {
     "name": "stdout",
     "output_type": "stream",
     "text": [
      "   오늘 온도  8°도   날씨 흐림 시간   00시       오늘 온도  7°도   날씨 흐림 시간  01시      오늘 온도  7°도   날씨 흐림 시간  02시      오늘 온도  7°도   날씨 흐림 시간  03시      오늘 온도  7°도   날씨 흐림 시간  04시      오늘 온도  7°도   날씨 구름많음 시간  06시      오늘 온도  10°도   날씨 구름많음 시간  09시      오늘 온도  15°도   날씨 맑음 시간  12시    \n"
     ]
    }
   ],
   "source": [
    "from bs4 import BeautifulSoup as bs\n",
    "from pprint import pprint\n",
    "import requests\n",
    "\n",
    "html = requests.get('https://search.naver.com/search.naver?query=날씨')\n",
    "\n",
    "soup = bs(html.text,'html.parser')\n",
    "\n",
    "data1 = soup.find('ul',{'class': 'info_list weather_condition _tabContent'})\n",
    "\n",
    "data2 = data1.find('ul').text\n",
    "\n",
    "print(data2)\n",
    "for i \n"
   ]
  },
  {
   "cell_type": "markdown",
   "metadata": {},
   "source": [
    "from bs4 import BeautifulSoup as bs\n",
    "from pprint import pprint\n",
    "import requests\n",
    "\n",
    "html = requests.get('https://search.naver.com/search.naver?query=날씨')\n",
    "\n",
    "soup = bs(html.text,'html.parser')\n",
    "\n",
    "data1 = soup.find('ul',{'class': 'list_area'})\n",
    "\n",
    "data2 = data1.find('li').text\n",
    "\n",
    "for idx, li in enumerate(lis):\n",
    "    print(idx, ul.text.strip())"
   ]
  },
  {
   "cell_type": "code",
   "execution_count": 39,
   "metadata": {},
   "outputs": [
    {
     "data": {
      "text/html": [
       "<div>\n",
       "<style scoped>\n",
       "    .dataframe tbody tr th:only-of-type {\n",
       "        vertical-align: middle;\n",
       "    }\n",
       "\n",
       "    .dataframe tbody tr th {\n",
       "        vertical-align: top;\n",
       "    }\n",
       "\n",
       "    .dataframe thead th {\n",
       "        text-align: right;\n",
       "    }\n",
       "</style>\n",
       "<table border=\"1\" class=\"dataframe\">\n",
       "  <thead>\n",
       "    <tr style=\"text-align: right;\">\n",
       "      <th></th>\n",
       "      <th>날짜</th>\n",
       "      <th>온도</th>\n",
       "    </tr>\n",
       "  </thead>\n",
       "  <tbody>\n",
       "    <tr>\n",
       "      <td>0</td>\n",
       "      <td>토 오늘</td>\n",
       "      <td>7°/15°</td>\n",
       "    </tr>\n",
       "    <tr>\n",
       "      <td>1</td>\n",
       "      <td>일 내일</td>\n",
       "      <td>6°/15°</td>\n",
       "    </tr>\n",
       "    <tr>\n",
       "      <td>2</td>\n",
       "      <td>월 모레</td>\n",
       "      <td>4°/18°</td>\n",
       "    </tr>\n",
       "    <tr>\n",
       "      <td>3</td>\n",
       "      <td>화 4.14.</td>\n",
       "      <td>7°/19°</td>\n",
       "    </tr>\n",
       "    <tr>\n",
       "      <td>4</td>\n",
       "      <td>수 4.15.</td>\n",
       "      <td>7°/20°</td>\n",
       "    </tr>\n",
       "    <tr>\n",
       "      <td>5</td>\n",
       "      <td>목 4.16.</td>\n",
       "      <td>8°/21°</td>\n",
       "    </tr>\n",
       "    <tr>\n",
       "      <td>6</td>\n",
       "      <td>금 4.17.</td>\n",
       "      <td>10°/17°</td>\n",
       "    </tr>\n",
       "    <tr>\n",
       "      <td>7</td>\n",
       "      <td>토 4.18.</td>\n",
       "      <td>8°/18°</td>\n",
       "    </tr>\n",
       "    <tr>\n",
       "      <td>8</td>\n",
       "      <td>일 4.19.</td>\n",
       "      <td>9°/18°</td>\n",
       "    </tr>\n",
       "    <tr>\n",
       "      <td>9</td>\n",
       "      <td>월 4.20.</td>\n",
       "      <td>9°/18°</td>\n",
       "    </tr>\n",
       "  </tbody>\n",
       "</table>\n",
       "</div>"
      ],
      "text/plain": [
       "         날짜       온도\n",
       "0     토 오늘    7°/15°\n",
       "1     일 내일    6°/15°\n",
       "2     월 모레    4°/18°\n",
       "3  화 4.14.    7°/19°\n",
       "4  수 4.15.    7°/20°\n",
       "5  목 4.16.    8°/21°\n",
       "6  금 4.17.   10°/17°\n",
       "7  토 4.18.    8°/18°\n",
       "8  일 4.19.    9°/18°\n",
       "9  월 4.20.    9°/18°"
      ]
     },
     "execution_count": 39,
     "metadata": {},
     "output_type": "execute_result"
    }
   ],
   "source": [
    "from bs4 import BeautifulSoup as bs\n",
    "from pprint import pprint\n",
    "import requests\n",
    "import pandas as pd\n",
    "\n",
    "html = requests.get('https://search.naver.com/search.naver?query=날씨')\n",
    "\n",
    "soup = bs(html.text,'html.parser')\n",
    "\n",
    "data1 = soup.find('ul',{'class': 'list_area _pageList'})\n",
    "date = soup.findAll('span',{'class': 'day_info'})\n",
    "dl = soup.findAll('dl')\n",
    "\n",
    "temperature = soup.select(\n",
    "    \"div.table_info.weekly._weeklyWeather > ul > li> dl > dd\"\n",
    ")\n",
    " \n",
    "list_date = []    \n",
    "for idx, val in enumerate(date):\n",
    "    list_date.append(val.text)\n",
    "    \n",
    "\n",
    "list_temp = []\n",
    "for idx, val in enumerate(temperature):\n",
    "    list_temp.append(val.text)\n",
    "    \n",
    "    \n",
    "df_naver_temp = pd.DataFrame(columns = ['날짜','온도'])\n",
    "df_naver_temp['날짜'] = list_date\n",
    "df_naver_temp['온도'] = list_temp\n",
    "df_naver_temp"
   ]
  },
  {
   "cell_type": "markdown",
   "metadata": {},
   "source": [
    "# _구글 날씨 _\n"
   ]
  },
  {
   "cell_type": "markdown",
   "metadata": {},
   "source": [
    "from bs4 import BeautifulSoup as bs\n",
    "from pprint import pprint\n",
    "import requests\n",
    "import pandas as pd\n",
    "\n",
    "html = requests.get('https://www.google.com/search?rlz=1C5CHFA_enSG850SG851&sxsrf=ALeKk01I3zdbDBate6IM6wWl0ukd8FxVRg%3A1587089919889&ei=_xGZXrryNczmwQOm1KLIBg&q=%EC%A3%BC%EA%B0%84%EB%82%A0%EC%94%A8&oq=%EC%A3%BC%EA%B0%84%EB%82%A0%EC%94%A8&gs_lcp=CgZwc3ktYWIQAzIECAAQRzIECAAQR0oHCBcSAzQtOEoHCBgSAzQtMlAAWABg6ZbVEWgAcAJ4AIABAIgBAJIBAJgBAKoBB2d3cy13aXo&sclient=psy-ab&ved=0ahUKEwj67ZrXsu7oAhVMc3AKHSaqCGkQ4dUDCAw&uact')\n",
    "\n",
    "soup = bs(html.text,'html.parser')\n",
    "\n",
    "header = {'User-Agent': 'Mozilla/5.0'}\n",
    "\n",
    "data1 = soup.find('div',{'eid': 'uKKZXoqDHNqMoAT87LywCg','data-async-context':\n",
    "                        'query:%EC%A3%BC%EA%B0%84%EB%82%A0%EC%94%A8'})\n",
    "print(data1)\n",
    "#wob_dp > div.wob_df.wob_ds\n",
    "#rso > div.g.knavi.obcontainer.mod > div"
   ]
  },
  {
   "cell_type": "markdown",
   "metadata": {},
   "source": [
    "from bs4 import BeautifulSoup as bs\n",
    "from pprint import pprint\n",
    "import requests\n",
    "import pandas as pd\n",
    "\n",
    "header = {'User-Agent': 'Mozilla/5.0 (Macintosh; Intel Mac OS X 10_15_4) AppleWebKit/537.36 (KHTML, like Gecko) Chrome/81.0.4044.92 Safari/537.36'}\n",
    "\n",
    "html = requests.get('https://www.google.com/search?rlz=1C5CHFA_enSG850SG851&sxsrf=ALeKk01I3zdbDBate6IM6wWl0ukd8FxVRg%3A1587089919889&ei=_xGZXrryNczmwQOm1KLIBg&q=%EC%A3%BC%EA%B0%84%EB%82%A0%EC%94%A8&oq=%EC%A3%BC%EA%B0%84%EB%82%A0%EC%94%A8&gs_lcp=CgZwc3ktYWIQAzIECAAQRzIECAAQR0oHCBcSAzQtOEoHCBgSAzQtMlAAWABg6ZbVEWgAcAJ4AIABAIgBAJIBAJgBAKoBB2d3cy13aXo&sclient=psy-ab&ved=0ahUKEwj67ZrXsu7oAhVMc3AKHSaqCGkQ4dUDCAw&uact')\n",
    "\n",
    "soup = bs(html.text,'html.parser')\n",
    "\n",
    "data1 = soup.find('div',{'class':'g.knavi.obcontainer.mod'})\n",
    "print(data1)"
   ]
  },
  {
   "cell_type": "code",
   "execution_count": null,
   "metadata": {},
   "outputs": [],
   "source": []
  }
 ],
 "metadata": {
  "kernelspec": {
   "display_name": "Python 3",
   "language": "python",
   "name": "python3"
  },
  "language_info": {
   "codemirror_mode": {
    "name": "ipython",
    "version": 3
   },
   "file_extension": ".py",
   "mimetype": "text/x-python",
   "name": "python",
   "nbconvert_exporter": "python",
   "pygments_lexer": "ipython3",
   "version": "3.7.4"
  }
 },
 "nbformat": 4,
 "nbformat_minor": 2
}
