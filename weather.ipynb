{
 "cells": [
  {
   "cell_type": "code",
   "execution_count": 1,
   "metadata": {},
   "outputs": [
    {
     "name": "stdout",
     "output_type": "stream",
     "text": [
      "<span class=\"num\">48㎍/㎥</span>\n"
     ]
    }
   ],
   "source": [
    "from bs4 import BeautifulSoup as bs\n",
    "from pprint import pprint\n",
    "import requests\n",
    "\n",
    "html = requests.get('https://search.naver.com/search.naver?query=날씨')\n",
    "\n",
    "soup = bs(html.text,'html.parser')\n",
    "\n",
    "data1 = soup.find('div',{'class':'detail_box'})\n",
    "\n",
    "data2 = data1.findAll('dd')\n",
    "\n",
    "fine_dust = data2[0].find('span',{'class':'num'})\n",
    "print(fine_dust)"
   ]
  },
  {
   "cell_type": "code",
   "execution_count": 50,
   "metadata": {},
   "outputs": [
    {
     "name": "stdout",
     "output_type": "stream",
     "text": [
      "현재 응암동 날씨는 12도 입니다.\n"
     ]
    }
   ],
   "source": [
    "from urllib.request import urlopen, Request\n",
    "import urllib\n",
    "import bs4\n",
    "\n",
    "location = '응암동'\n",
    "enc_location = urllib.parse.quote(location + '+날씨')\n",
    "\n",
    "url = 'https://search.naver.com/search.naver?ie=utf8&query='+ enc_location\n",
    "\n",
    "req = Request(url)\n",
    "page = urlopen(req)\n",
    "html = page.read()\n",
    "soup = bs4.BeautifulSoup(html,'html5lib')\n",
    "print('현재 ' + location + ' 날씨는 ' + soup.find('p', class_='info_temperature').find('span', class_='todaytemp').text + '도 입니다.')"
   ]
  },
  {
   "cell_type": "code",
   "execution_count": 11,
   "metadata": {},
   "outputs": [
    {
     "ename": "ModuleNotFoundError",
     "evalue": "No module named 'teleport'",
     "output_type": "error",
     "traceback": [
      "\u001b[0;31m---------------------------------------------------------------------------\u001b[0m",
      "\u001b[0;31mModuleNotFoundError\u001b[0m                       Traceback (most recent call last)",
      "\u001b[0;32m<ipython-input-11-55033e287b82>\u001b[0m in \u001b[0;36m<module>\u001b[0;34m\u001b[0m\n\u001b[0;32m----> 1\u001b[0;31m \u001b[0;32mimport\u001b[0m \u001b[0mteleport\u001b[0m\u001b[0;34m\u001b[0m\u001b[0;34m\u001b[0m\u001b[0m\n\u001b[0m\u001b[1;32m      2\u001b[0m \u001b[0;32mimport\u001b[0m \u001b[0mrequests\u001b[0m\u001b[0;34m\u001b[0m\u001b[0;34m\u001b[0m\u001b[0m\n\u001b[1;32m      3\u001b[0m \u001b[0;32mfrom\u001b[0m \u001b[0mbs4\u001b[0m \u001b[0;32mimport\u001b[0m \u001b[0mBeautifulSoup\u001b[0m\u001b[0;34m\u001b[0m\u001b[0;34m\u001b[0m\u001b[0m\n",
      "\u001b[0;31mModuleNotFoundError\u001b[0m: No module named 'teleport'"
     ]
    }
   ],
   "source": [
    "import telepot\n",
    "from telepot.loop import MessageLoop\n",
    "import time\n",
    "import requests\n",
    "\n",
    "TOKEN_MAIN = '1118537264:AAHIv8FE5tdM-wH4PSYqeAT_mspvyaULcVU'\n",
    "symbol = \"\"\n",
    "\n",
    "startMsg = \"명령어\\n\" \\\n",
    "            \"1.\n",
    "\n"
   ]
  },
  {
   "cell_type": "code",
   "execution_count": 49,
   "metadata": {},
   "outputs": [
    {
     "name": "stdout",
     "output_type": "stream",
     "text": [
      " 토 오늘     강수확률 20%      강수확률 0%    최저,최고 온도 3°/12°  \n"
     ]
    }
   ],
   "source": [
    "from bs4 import BeautifulSoup as bs\n",
    "from pprint import pprint\n",
    "import requests\n",
    "\n",
    "html = requests.get('https://search.naver.com/search.naver?query=날씨')\n",
    "\n",
    "soup = bs(html.text,'html.parser')\n",
    "\n",
    "data1 = soup.find('div',{'class': 'table_info weekly _weeklyWeather'})\n",
    "\n",
    "data2 = data1.findAll('ul')\n",
    "\n",
    "inform_weather = data2[0].find('li',{'class':'date_info today'})\n",
    "\n",
    "print(inform_weather.text)\n",
    "#main_pack > div.sc.cs_weather._weather > div:nth-child(2) > div.weather_box > div.weather_area._mainArea > div.table_info.weekly._weeklyWeather > ul:nth-child(2)\n"
   ]
  },
  {
   "cell_type": "code",
   "execution_count": 19,
   "metadata": {},
   "outputs": [
    {
     "ename": "SelectorSyntaxError",
     "evalue": "Invalid syntax for pseudo class ':nth-child'\n  line 1:\n#main_pack > div.sc.cs_weather._weather > div:nth-child() > div.weather_box > div.weather_area._mainArea > div.today_area._mainTabContent > div.table_info.bytime._todayWeatherByTime > div.info_list.weather_condition._tabContent > ul > li.on.now\n                                             ^ (<string>)",
     "output_type": "error",
     "traceback": [
      "Traceback \u001b[0;36m(most recent call last)\u001b[0m:\n",
      "  File \u001b[1;32m\"/Users/nusys/opt/anaconda3/lib/python3.7/site-packages/IPython/core/interactiveshell.py\"\u001b[0m, line \u001b[1;32m3326\u001b[0m, in \u001b[1;35mrun_code\u001b[0m\n    exec(code_obj, self.user_global_ns, self.user_ns)\n",
      "  File \u001b[1;32m\"<ipython-input-19-dd11d664c1f8>\"\u001b[0m, line \u001b[1;32m8\u001b[0m, in \u001b[1;35m<module>\u001b[0m\n    print(soup.select('#main_pack > div.sc.cs_weather._weather > div:nth-child() > div.weather_box > div.weather_area._mainArea > div.today_area._mainTabContent > div.table_info.bytime._todayWeatherByTime > div.info_list.weather_condition._tabContent > ul > li.on.now'))\n",
      "  File \u001b[1;32m\"/Users/nusys/opt/anaconda3/lib/python3.7/site-packages/bs4/element.py\"\u001b[0m, line \u001b[1;32m1334\u001b[0m, in \u001b[1;35mselect\u001b[0m\n    return soupsieve.select(selector, self, namespaces, limit, **kwargs)\n",
      "  File \u001b[1;32m\"/Users/nusys/opt/anaconda3/lib/python3.7/site-packages/soupsieve/__init__.py\"\u001b[0m, line \u001b[1;32m114\u001b[0m, in \u001b[1;35mselect\u001b[0m\n    return compile(select, namespaces, flags, **kwargs).select(tag, limit)\n",
      "  File \u001b[1;32m\"/Users/nusys/opt/anaconda3/lib/python3.7/site-packages/soupsieve/__init__.py\"\u001b[0m, line \u001b[1;32m63\u001b[0m, in \u001b[1;35mcompile\u001b[0m\n    return cp._cached_css_compile(pattern, namespaces, custom, flags)\n",
      "  File \u001b[1;32m\"/Users/nusys/opt/anaconda3/lib/python3.7/site-packages/soupsieve/css_parser.py\"\u001b[0m, line \u001b[1;32m205\u001b[0m, in \u001b[1;35m_cached_css_compile\u001b[0m\n    CSSParser(pattern, custom=custom_selectors, flags=flags).process_selectors(),\n",
      "  File \u001b[1;32m\"/Users/nusys/opt/anaconda3/lib/python3.7/site-packages/soupsieve/css_parser.py\"\u001b[0m, line \u001b[1;32m1064\u001b[0m, in \u001b[1;35mprocess_selectors\u001b[0m\n    return self.parse_selectors(self.selector_iter(self.pattern), index, flags)\n",
      "  File \u001b[1;32m\"/Users/nusys/opt/anaconda3/lib/python3.7/site-packages/soupsieve/css_parser.py\"\u001b[0m, line \u001b[1;32m923\u001b[0m, in \u001b[1;35mparse_selectors\u001b[0m\n    has_selector, is_html = self.parse_pseudo_class(sel, m, has_selector, iselector, is_html)\n",
      "\u001b[0;36m  File \u001b[0;32m\"/Users/nusys/opt/anaconda3/lib/python3.7/site-packages/soupsieve/css_parser.py\"\u001b[0;36m, line \u001b[0;32m652\u001b[0;36m, in \u001b[0;35mparse_pseudo_class\u001b[0;36m\u001b[0m\n\u001b[0;31m    m.start(0)\u001b[0m\n",
      "\u001b[0;36m  File \u001b[0;32m\"<string>\"\u001b[0;36m, line \u001b[0;32munknown\u001b[0m\n\u001b[0;31mSelectorSyntaxError\u001b[0m\u001b[0;31m:\u001b[0m Invalid syntax for pseudo class ':nth-child'\n  line 1:\n#main_pack > div.sc.cs_weather._weather > div:nth-child() > div.weather_box > div.weather_area._mainArea > div.today_area._mainTabContent > div.table_info.bytime._todayWeatherByTime > div.info_list.weather_condition._tabContent > ul > li.on.now\n                                             ^\n"
     ]
    }
   ],
   "source": [
    "import requests\n",
    "from bs4 import BeautifulSoup\n",
    "\n",
    "req = requests.get('https://search.naver.com/search.naver?query=%EB%82%A0%EC%94%A8')\n",
    "source = req.text\n",
    "soup = BeautifulSoup(source, 'html.parser')\n",
    "\n",
    "print(soup.select('#main_pack > div.sc.cs_weather._weather > div:nth-child() > div.weather_box > div.weather_area._mainArea > div.today_area._mainTabContent > div.table_info.bytime._todayWeatherByTime > div.info_list.weather_condition._tabContent > ul > li.on.now'))\n"
   ]
  },
  {
   "cell_type": "code",
   "execution_count": 21,
   "metadata": {},
   "outputs": [
    {
     "name": "stdout",
     "output_type": "stream",
     "text": [
      "현재 위치: 서울특별시 은평구 응암2동\n",
      "현재 온도: 8℃\n"
     ]
    }
   ],
   "source": [
    "from bs4 import BeautifulSoup\n",
    "from pprint import pprint\n",
    "import requests\n",
    "\n",
    "html = requests.get('https://search.naver.com/search.naver?query=날씨')\n",
    "\n",
    "soup = BeautifulSoup(html.text, 'html.parser')\n",
    "\n",
    "data1 = soup.find('div', {'class': 'weather_box'})\n",
    "\n",
    "find_address = data1.find('span', {'class':'btn_select'}).text\n",
    "print('현재 위치: '+find_address)\n",
    "\n",
    "find_currenttemp = data1.find('span',{'class': 'todaytemp'}).text\n",
    "print('현재 온도: '+find_currenttemp+'℃')\n"
   ]
  },
  {
   "cell_type": "code",
   "execution_count": 29,
   "metadata": {},
   "outputs": [
    {
     "name": "stdout",
     "output_type": "stream",
     "text": [
      "  오늘 온도  8°도   날씨 흐림 시간   00시    \n"
     ]
    }
   ],
   "source": [
    "from bs4 import BeautifulSoup as bs\n",
    "from pprint import pprint\n",
    "import requests\n",
    "\n",
    "html = requests.get('https://search.naver.com/search.naver?query=날씨')\n",
    "\n",
    "soup = bs(html.text,'html.parser')\n",
    "\n",
    "data1 = soup.find('div',{'class': 'info_list weather_condition _tabContent'})\n",
    "\n",
    "data2 = data1.findAll('ul')\n",
    "\n",
    "inform_weather = data2[0].find('li',{'class':'on'})\n",
    "\n",
    "print(inform_weather.text)\n",
    "#main_pack > div.sc.cs_weather._weather > div:nth-child() > div.weather_box > div.weather_area._mainArea > div.today_area._mainTabContent > div.table_info.bytime._todayWeatherByTime > div.info_list.weather_condition._tabContent > ul > li.on.now\n",
    "\n"
   ]
  },
  {
   "cell_type": "code",
   "execution_count": 33,
   "metadata": {},
   "outputs": [
    {
     "name": "stdout",
     "output_type": "stream",
     "text": [
      "   오늘 온도  8°도   날씨 흐림 시간   00시       오늘 온도  7°도   날씨 흐림 시간  01시      오늘 온도  7°도   날씨 흐림 시간  02시      오늘 온도  7°도   날씨 흐림 시간  03시      오늘 온도  7°도   날씨 흐림 시간  04시      오늘 온도  7°도   날씨 구름많음 시간  06시      오늘 온도  10°도   날씨 구름많음 시간  09시      오늘 온도  15°도   날씨 맑음 시간  12시    \n"
     ]
    }
   ],
   "source": [
    "from bs4 import BeautifulSoup as bs\n",
    "from pprint import pprint\n",
    "import requests\n",
    "\n",
    "html = requests.get('https://search.naver.com/search.naver?query=날씨')\n",
    "\n",
    "soup = bs(html.text,'html.parser')\n",
    "\n",
    "data1 = soup.find('div',{'class': 'info_list weather_condition _tabContent'})\n",
    "\n",
    "data2 = data1.find('ul').text\n",
    "\n",
    "print(data2)\n",
    "for i \n"
   ]
  },
  {
   "cell_type": "code",
   "execution_count": 34,
   "metadata": {},
   "outputs": [
    {
     "name": "stdout",
     "output_type": "stream",
     "text": [
      "  토 오늘     강수확률 20%      강수확률 20%    최저,최고 온도 7°/16°    일 내일     강수확률 0%      강수확률 20%    최저,최고 온도 6°/15°    월 모레     강수확률 0%      강수확률 0%    최저,최고 온도 5°/17°    화 4.14.     강수확률 0%      강수확률 0%    최저,최고 온도 8°/20°    수 4.15.     강수확률 30%      강수확률 30%    최저,최고 온도 7°/20°   \n"
     ]
    }
   ],
   "source": [
    "from bs4 import BeautifulSoup as bs\n",
    "from pprint import pprint\n",
    "import requests\n",
    "\n",
    "html = requests.get('https://search.naver.com/search.naver?query=날씨')\n",
    "\n",
    "soup = bs(html.text,'html.parser')\n",
    "\n",
    "data1 = soup.find('div',{'class': 'table_info weekly _weeklyWeather'})\n",
    "\n",
    "data2 = data1.find('ul').text\n",
    "\n",
    "print(data2)"
   ]
  },
  {
   "cell_type": "code",
   "execution_count": null,
   "metadata": {},
   "outputs": [],
   "source": []
  }
 ],
 "metadata": {
  "kernelspec": {
   "display_name": "Python 3",
   "language": "python",
   "name": "python3"
  },
  "language_info": {
   "codemirror_mode": {
    "name": "ipython",
    "version": 3
   },
   "file_extension": ".py",
   "mimetype": "text/x-python",
   "name": "python",
   "nbconvert_exporter": "python",
   "pygments_lexer": "ipython3",
   "version": "3.7.4"
  }
 },
 "nbformat": 4,
 "nbformat_minor": 2
}
